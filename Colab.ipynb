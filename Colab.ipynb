{
  "nbformat": 4,
  "nbformat_minor": 0,
  "metadata": {
    "colab": {
      "name": "Untitled0.ipynb",
      "provenance": [],
      "authorship_tag": "ABX9TyNFtD8OYZ1wIe9LL0wr3vxB",
      "include_colab_link": true
    },
    "kernelspec": {
      "name": "python3",
      "display_name": "Python 3"
    },
    "language_info": {
      "name": "python"
    }
  },
  "cells": [
    {
      "cell_type": "markdown",
      "metadata": {
        "id": "view-in-github",
        "colab_type": "text"
      },
      "source": [
        "<a href=\"https://colab.research.google.com/github/minjung0/oldmansea/blob/main/Colab.ipynb\" target=\"_parent\"><img src=\"https://colab.research.google.com/assets/colab-badge.svg\" alt=\"Open In Colab\"/></a>"
      ]
    },
    {
      "cell_type": "markdown",
      "metadata": {
        "id": "n2THsDsaoaYQ"
      },
      "source": [
        "## Ingest Data\n",
        "\n",
        "This will download the book"
      ]
    },
    {
      "cell_type": "code",
      "metadata": {
        "colab": {
          "base_uri": "https://localhost:8080/"
        },
        "id": "Kjkn2Sqaos4Z",
        "outputId": "4003a7a7-a1c0-496a-ca09-8bbdf1c99877"
      },
      "source": [
        "!wget https://raw.githubusercontent.com/minjung0/oldmansea/main/oldmansea-book.txt"
      ],
      "execution_count": 2,
      "outputs": [
        {
          "output_type": "stream",
          "name": "stdout",
          "text": [
            "--2021-09-24 21:22:18--  https://raw.githubusercontent.com/minjung0/oldmansea/main/oldmansea-book.txt\n",
            "Resolving raw.githubusercontent.com (raw.githubusercontent.com)... 185.199.108.133, 185.199.111.133, 185.199.109.133, ...\n",
            "Connecting to raw.githubusercontent.com (raw.githubusercontent.com)|185.199.108.133|:443... connected.\n",
            "HTTP request sent, awaiting response... 200 OK\n",
            "Length: 134520 (131K) [text/plain]\n",
            "Saving to: ‘oldmansea-book.txt’\n",
            "\n",
            "\roldmansea-book.txt    0%[                    ]       0  --.-KB/s               \roldmansea-book.txt  100%[===================>] 131.37K  --.-KB/s    in 0.02s   \n",
            "\n",
            "2021-09-24 21:22:18 (7.74 MB/s) - ‘oldmansea-book.txt’ saved [134520/134520]\n",
            "\n"
          ]
        }
      ]
    },
    {
      "cell_type": "code",
      "metadata": {
        "colab": {
          "base_uri": "https://localhost:8080/"
        },
        "id": "KZpbMJKxsbT5",
        "outputId": "bf3abb3e-eda0-4af2-dc1d-888963e8f8da"
      },
      "source": [
        "!head oldmansea-book.txt"
      ],
      "execution_count": 3,
      "outputs": [
        {
          "output_type": "stream",
          "name": "stdout",
          "text": [
            "THE OLD MAN AND THE SEA\n",
            "\n",
            "\n",
            "\n",
            "\n",
            "He was an old man who fished alone in a skiff in the Gulf Stream and he\n",
            "had gone eighty-four days now without taking a fish.  In the first\n",
            "forty days a boy had been with him.  But after forty days without a\n",
            "fish the boy's parents had told him that the old man was now definitely\n",
            "and finally _salao_, which is the worst form of unlucky, and the boy\n"
          ]
        }
      ]
    },
    {
      "cell_type": "code",
      "metadata": {
        "colab": {
          "base_uri": "https://localhost:8080/"
        },
        "id": "6Mpf0gYysi5E",
        "outputId": "ab7c47e4-5389-48b1-9397-3ba50765ed40"
      },
      "source": [
        "!tail oldmansea-book.txt"
      ],
      "execution_count": 4,
      "outputs": [
        {
          "output_type": "stream",
          "name": "stdout",
          "text": [
            "\"Tiburon,\" the waiter said, \"Eshark.\"  He was meaning to explain what\n",
            "had happened.\n",
            "\n",
            "\"I didn't know sharks had such handsome, beautifully formed tails.\"\n",
            "\n",
            "\"I didn't either,\" her male companion said.\n",
            "\n",
            "Up the road, in his shack, the old man was sleeping again.  He was\n",
            "still sleeping on his face and the boy was sitting by him watching him.\n",
            "The old man was dreaming about the lions.\n"
          ]
        }
      ]
    }
  ]
}